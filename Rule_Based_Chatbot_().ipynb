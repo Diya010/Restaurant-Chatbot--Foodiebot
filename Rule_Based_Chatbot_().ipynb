{
  "nbformat": 4,
  "nbformat_minor": 0,
  "metadata": {
    "colab": {
      "provenance": [],
      "authorship_tag": "ABX9TyNUCLsPIN13KzcDgBJ4Yif3",
      "include_colab_link": true
    },
    "kernelspec": {
      "name": "python3",
      "display_name": "Python 3"
    },
    "language_info": {
      "name": "python"
    }
  },
  "cells": [
    {
      "cell_type": "markdown",
      "metadata": {
        "id": "view-in-github",
        "colab_type": "text"
      },
      "source": [
        "<a href=\"https://colab.research.google.com/github/Diya010/Restaurant-Chatbot--Foodiebot/blob/main/Rule_Based_Chatbot_().ipynb\" target=\"_parent\"><img src=\"https://colab.research.google.com/assets/colab-badge.svg\" alt=\"Open In Colab\"/></a>"
      ]
    },
    {
      "cell_type": "code",
      "execution_count": null,
      "metadata": {
        "id": "nMHCuOG1ngul",
        "colab": {
          "base_uri": "https://localhost:8080/"
        },
        "outputId": "dbb99569-ca32-419b-f87c-fb725fb4fab1"
      },
      "outputs": [
        {
          "output_type": "stream",
          "name": "stdout",
          "text": [
            "Welcome to Bite and Delight! 🍽️ How can I assist you today?\n",
            "\n",
            "1. View Menu\n",
            "2. Make a Reservation\n",
            "3. Order Food\n",
            "4. Track Order\n",
            "5. FAQs\n",
            "6. Exit\n",
            "Please select an option (1-6): 1\n",
            "\n",
            "Our Menu:\n",
            "1. 🍕 Pizza - 599rupees\n",
            "2. 🍔 Burger - 69rupees\n",
            "3. 🍣 Sushi - 399rupees\n",
            "4. 🥗 Salad - 349rupees\n",
            "5. 🥤 Drinks - 199rupees\n",
            "\n",
            "1. View Menu\n",
            "2. Make a Reservation\n",
            "3. Order Food\n",
            "4. Track Order\n",
            "5. FAQs\n",
            "6. Exit\n",
            "Please select an option (1-6): 3\n",
            "\n",
            "Our Menu:\n",
            "1. 🍕 Pizza - 599rupees\n",
            "2. 🍔 Burger - 69rupees\n",
            "3. 🍣 Sushi - 399rupees\n",
            "4. 🥗 Salad - 349rupees\n",
            "5. 🥤 Drinks - 199rupees\n",
            "Enter the number of the item you want to order: 3,4\n",
            "Processing your order...\n",
            "Order placed successfully! 🍽️ Your food will be ready soon.\n",
            "\n",
            "1. View Menu\n",
            "2. Make a Reservation\n",
            "3. Order Food\n",
            "4. Track Order\n",
            "5. FAQs\n",
            "6. Exit\n",
            "Please select an option (1-6): 5\n",
            "\n",
            "Frequently Asked Questions:\n",
            "1. Do you offer delivery? - Yes, within 5 miles.\n",
            "2. What are your hours? - 10 AM - 10 PM daily.\n",
            "3. Do you have vegan options? - Yes, check our menu.\n",
            "4. Can I book a table online? - Yes, use the reservation option.\n",
            "\n",
            "1. View Menu\n",
            "2. Make a Reservation\n",
            "3. Order Food\n",
            "4. Track Order\n",
            "5. FAQs\n",
            "6. Exit\n",
            "Please select an option (1-6): 4\n",
            "\n",
            "Your order is being prepared! 🚀 Please wait 10-15 minutes.\n",
            "\n",
            "1. View Menu\n",
            "2. Make a Reservation\n",
            "3. Order Food\n",
            "4. Track Order\n",
            "5. FAQs\n",
            "6. Exit\n"
          ]
        }
      ],
      "source": [
        "import time\n",
        "\n",
        "def restaurant_chatbot():\n",
        "    print(\"Welcome to Bite and Delight! 🍽️ How can I assist you today?\")\n",
        "\n",
        "    while True:\n",
        "        print(\"\\n1. View Menu\\n2. Make a Reservation\\n3. Order Food\\n4. Track Order\\n5. FAQs\\n6. Exit\")\n",
        "        choice = input(\"Please select an option (1-6): \")\n",
        "\n",
        "        if choice == \"1\":\n",
        "            show_menu()\n",
        "        elif choice == \"2\":\n",
        "            make_reservation()\n",
        "        elif choice == \"3\":\n",
        "            order_food()\n",
        "        elif choice == \"4\":\n",
        "            track_order()\n",
        "        elif choice == \"5\":\n",
        "            show_faqs()\n",
        "        elif choice == \"6\":\n",
        "            print(\"Thank you for visiting Foodie's Delight! Have a great day! 😊\")\n",
        "            break\n",
        "        else:\n",
        "            print(\"Invalid choice. Please try again.\")\n",
        "\n",
        "def show_menu():\n",
        "    menu = {\n",
        "        \"1\": \"🍕 Pizza - 599rupees\",\n",
        "        \"2\": \"🍔 Burger - 69rupees\",\n",
        "        \"3\": \"🍣 Sushi - 399rupees\",\n",
        "        \"4\": \"🥗 Salad - 349rupees\",\n",
        "        \"5\": \"🥤 Drinks - 199rupees\"\n",
        "    }\n",
        "    print(\"\\nOur Menu:\")\n",
        "    for key, item in menu.items():\n",
        "        print(f\"{key}. {item}\")\n",
        "\n",
        "def make_reservation():\n",
        "    name = input(\"Enter your name: \")\n",
        "    people = input(\"Number of people: \")\n",
        "    time_slot = input(\"Preferred time (e.g., 7:00 PM): \")\n",
        "    print(f\"\\nReservation confirmed for {name} - {people} people at {time_slot}. 🏡\")\n",
        "\n",
        "def order_food():\n",
        "    show_menu()\n",
        "    order = input(\"Enter the number of the item you want to order: \")\n",
        "    print(\"Processing your order...\")\n",
        "    time.sleep(2)\n",
        "    print(\"Order placed successfully! 🍽️ Your food will be ready soon.\")\n",
        "\n",
        "def track_order():\n",
        "    print(\"\\nYour order is being prepared! 🚀 Please wait 10-15 minutes.\")\n",
        "\n",
        "def show_faqs():\n",
        "    print(\"\\nFrequently Asked Questions:\")\n",
        "    print(\"1. Do you offer delivery? - Yes, within 5 miles.\")\n",
        "    print(\"2. What are your hours? - 10 AM - 10 PM daily.\")\n",
        "    print(\"3. Do you have vegan options? - Yes, check our menu.\")\n",
        "    print(\"4. Can I book a table online? - Yes, use the reservation option.\")\n",
        "\n",
        "# Run the chatbot\n",
        "restaurant_chatbot()"
      ]
    },
    {
      "cell_type": "code",
      "source": [],
      "metadata": {
        "id": "vhJ-4q6-Uty-"
      },
      "execution_count": null,
      "outputs": []
    }
  ]
}